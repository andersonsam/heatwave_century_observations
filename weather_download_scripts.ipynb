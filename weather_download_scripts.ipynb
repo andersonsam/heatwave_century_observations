{
 "cells": [
  {
   "cell_type": "markdown",
   "id": "e61f6ffa-ce46-4676-a0e0-367b1b3591e9",
   "metadata": {},
   "source": [
    "# Key sites from paper"
   ]
  },
  {
   "cell_type": "markdown",
   "id": "99f2864a-2543-4bea-be79-94e4fe34af1d",
   "metadata": {},
   "source": [
    "## Bow River at Banff"
   ]
  },
  {
   "cell_type": "raw",
   "id": "021bc662-5c8f-4137-a325-117e19da8ac8",
   "metadata": {},
   "source": [
    "BANFF\n",
    "for year in `seq 1909 1995`;do for month in `seq 1 1`;do wget --content-disposition \"https://climate.weather.gc.ca/climate_data/bulk_data_e.html?format=csv&stationID=2364&Year=${year}&Month=${month}&Day=14&timeframe=2&submit= Download+Data\" ;done;done\n",
    "\n",
    "BANFF CS\n",
    "for year in `seq 1995 2023`;do for month in `seq 1 1`;do wget --content-disposition \"https://climate.weather.gc.ca/climate_data/bulk_data_e.html?format=csv&stationID=27378&Year=${year}&Month=${month}&Day=14&timeframe=2&submit= Download+Data\" ;done;done"
   ]
  },
  {
   "cell_type": "markdown",
   "id": "0908702d-758b-49ef-b859-80dfbf6869dc",
   "metadata": {},
   "source": [
    "## Stuart River near Fort St James"
   ]
  },
  {
   "cell_type": "raw",
   "id": "d6d9c326-35af-4ec3-8344-f401ca5cba6a",
   "metadata": {},
   "source": [
    "FORT ST JAMES\n",
    "for year in `seq 1895 2019`;do for month in `seq 1 1`;do wget --content-disposition \"https://climate.weather.gc.ca/climate_data/bulk_data_e.html?format=csv&stationID=588&Year=${year}&Month=${month}&Day=14&timeframe=2&submit= Download+Data\" ;done;done"
   ]
  },
  {
   "cell_type": "markdown",
   "id": "0a3b1415-976b-4fd7-9dac-ecf4fb79202c",
   "metadata": {},
   "source": [
    "## Columbia River near Golden"
   ]
  },
  {
   "cell_type": "raw",
   "id": "a3fd7ed2-ba76-44f8-8061-24496c2bc450",
   "metadata": {},
   "source": [
    "GOLDEN\n",
    "for year in `seq 1903 2018`;do for month in `seq 1 1`;do wget --content-disposition \"https://climate.weather.gc.ca/climate_data/bulk_data_e.html?format=csv&stationID=1364&Year=${year}&Month=${month}&Day=14&timeframe=2&submit= Download+Data\" ;done;done"
   ]
  },
  {
   "cell_type": "markdown",
   "id": "331abdd1-5ac9-4175-9139-5a30e6a2890d",
   "metadata": {},
   "source": [
    "## Similkameen River at Princeton"
   ]
  },
  {
   "cell_type": "raw",
   "id": "c4839b89-e172-4c1d-9fa4-b47bcbd7607c",
   "metadata": {},
   "source": [
    "PRINCETON\n",
    "for year in `seq 1936 2017`;do for month in `seq 1 1`;do wget --content-disposition \"https://climate.weather.gc.ca/climate_data/bulk_data_e.html?format=csv&stationID=1056&Year=${year}&Month=${month}&Day=14&timeframe=2&submit= Download+Data\" ;done;done"
   ]
  },
  {
   "cell_type": "markdown",
   "id": "83ea4e5b-96fa-4017-8287-dea5dfa65061",
   "metadata": {},
   "source": [
    "## Chilliwack River at Vedder Crossing"
   ]
  },
  {
   "cell_type": "raw",
   "id": "88beaba0-b129-44e4-a812-4d8270555b79",
   "metadata": {},
   "source": [
    "CHILLIWACK\n",
    "for year in `seq 1911 2014`;do for month in `seq 1 1`;do wget --content-disposition \"https://climate.weather.gc.ca/climate_data/bulk_data_e.html?format=csv&stationID=735&Year=${year}&Month=${month}&Day=14&timeframe=2&submit= Download+Data\" ;done;done"
   ]
  },
  {
   "cell_type": "markdown",
   "id": "61bfb650-6dc4-4db8-9b73-2d600bae7185",
   "metadata": {},
   "source": [
    "## Lillooet River near Pemberton"
   ]
  },
  {
   "cell_type": "raw",
   "id": "ecb3ef85-aea3-496d-b1a0-8724b761096a",
   "metadata": {},
   "source": [
    "PEMBERTON MEADOWS\n",
    "\n",
    "for year in `seq 1912 1971`;do for month in `seq 1 1`;do wget --content-disposition \"https://climate.weather.gc.ca/climate_data/bulk_data_e.html?format=csv&stationID=538&Year=${year}&Month=${month}&Day=14&timeframe=2&submit= Download+Data\" ;done;done\n",
    "\n",
    "\n",
    "PEMBERTON BCFS\n",
    "\n",
    "for year in `seq 1972 1983`;do for month in `seq 1 1`;do wget --content-disposition \"https://climate.weather.gc.ca/climate_data/bulk_data_e.html?format=csv&stationID=537&Year=${year}&Month=${month}&Day=14&timeframe=2&submit= Download+Data\" ;done;done\n",
    "\n",
    "\n",
    "PEMBERTON AIRPORT CS\n",
    "\n",
    "for year in `seq 1984 2023`;do for month in `seq 1 1`;do wget --content-disposition \"https://climate.weather.gc.ca/climate_data/bulk_data_e.html?format=csv&stationID=536&Year=${year}&Month=${month}&Day=14&timeframe=2&submit= Download+Data\" ;done;done\n",
    "\n",
    "\n",
    "***** OVERLAP YEARS FOR BIAS CORRECTION *****\n",
    "\n",
    "PEMBERTON MEADOWS\n",
    "\n",
    "for year in `seq 1969 1971`;do for month in `seq 1 1`;do wget --content-disposition \"https://climate.weather.gc.ca/climate_data/bulk_data_e.html?format=csv&stationID=538&Year=${year}&Month=${month}&Day=14&timeframe=2&submit= Download+Data\" ;done;done\n",
    "\n",
    "\n",
    "PEMBERTON BCFS\n",
    "\n",
    "for year in `seq 1969 1971`;do for month in `seq 1 1`;do wget --content-disposition \"https://climate.weather.gc.ca/climate_data/bulk_data_e.html?format=csv&stationID=537&Year=${year}&Month=${month}&Day=14&timeframe=2&submit= Download+Data\" ;done;done\n",
    "\n",
    "for year in `seq 1984 1984`;do for month in `seq 1 1`;do wget --content-disposition \"https://climate.weather.gc.ca/climate_data/bulk_data_e.html?format=csv&stationID=537&Year=${year}&Month=${month}&Day=14&timeframe=2&submit= Download+Data\" ;done;done\n",
    "\n",
    "\n",
    "PEMBERTON AIRPORT CS\n",
    "\n",
    "for year in `seq 1984 1984`;do for month in `seq 1 1`;do wget --content-disposition \"https://climate.weather.gc.ca/climate_data/bulk_data_e.html?format=csv&stationID=536&Year=${year}&Month=${month}&Day=14&timeframe=2&submit= Download+Data\" ;done;done"
   ]
  },
  {
   "cell_type": "markdown",
   "id": "b994d981-90a5-443e-96a6-7d377e9ac763",
   "metadata": {},
   "source": [
    "# Other sites of potential interest"
   ]
  },
  {
   "cell_type": "markdown",
   "id": "87fe0181-9ce7-4bd4-b14e-28c14342f2f4",
   "metadata": {},
   "source": [
    "## Athabasca River near Jasper"
   ]
  },
  {
   "cell_type": "raw",
   "id": "a3073c00-64d9-4669-9e1b-b5272c7aae47",
   "metadata": {},
   "source": [
    "JASPER\n",
    "for year in `seq 1926 1998`;do for month in `seq 1 1`;do wget --content-disposition \"https://climate.weather.gc.ca/climate_data/bulk_data_e.html?format=csv&stationID=2398&Year=${year}&Month=${month}&Day=14&timeframe=2&submit= Download+Data\" ;done;done\n",
    "\n",
    "JASPER WARDEN\n",
    "for year in `seq 1994 2023`;do for month in `seq 1 1`;do wget --content-disposition \"https://climate.weather.gc.ca/climate_data/bulk_data_e.html?format=csv&stationID=10223&Year=${year}&Month=${month}&Day=14&timeframe=2&submit= Download+Data\" ;done;done"
   ]
  },
  {
   "cell_type": "markdown",
   "id": "901f9c83-74ad-45b8-8b2a-ca88c64f8b34",
   "metadata": {
    "tags": []
   },
   "source": [
    "## Thompson River at Kamloops"
   ]
  },
  {
   "cell_type": "raw",
   "id": "ad5d25fc-40e0-4043-bd73-0860946eaced",
   "metadata": {},
   "source": [
    "KAMLOOPS\n",
    "for year in `seq 1911 1982`;do for month in `seq 1 1`;do wget --content-disposition \"https://climate.weather.gc.ca/climate_data/bulk_data_e.html?format=csv&stationID=1274&Year=${year}&Month=${month}&Day=14&timeframe=2&submit= Download+Data\" ;done;done"
   ]
  },
  {
   "cell_type": "markdown",
   "id": "77780426-7bc9-447b-a6fe-401071a2f28d",
   "metadata": {},
   "source": [
    "## Crowsnest River near Frank"
   ]
  },
  {
   "cell_type": "raw",
   "id": "06d03ed9-bb13-422c-9635-ddee474d8818",
   "metadata": {},
   "source": [
    "COLEMAN\n",
    "\n",
    "for year in `seq 1912 1997`;do for month in `seq 1 1`;do wget --content-disposition \"https://climate.weather.gc.ca/climate_data/bulk_data_e.html?format=csv&stationID=2381&Year=${year}&Month=${month}&Day=14&timeframe=2&submit= Download+Data\" ;done;done"
   ]
  },
  {
   "cell_type": "markdown",
   "id": "9b805176-fb87-44f4-9b04-9f16287df025",
   "metadata": {},
   "source": [
    "## Ashnola River near Hedley"
   ]
  },
  {
   "cell_type": "raw",
   "id": "ff8166e5-2b84-4557-8680-232e50738c15",
   "metadata": {},
   "source": [
    "HEDLEY\n",
    "for year in `seq 1914 2015`;do for month in `seq 1 1`;do wget --content-disposition \"https://climate.weather.gc.ca/climate_data/bulk_data_e.html?format=csv&stationID=996&Year=${year}&Month=${month}&Day=14&timeframe=2&submit= Download+Data\" ;done;done"
   ]
  },
  {
   "cell_type": "markdown",
   "id": "c14bc3a6-456c-479c-b851-45a9dcbe310a",
   "metadata": {},
   "source": [
    "## Waterton River near Waterton"
   ]
  },
  {
   "cell_type": "raw",
   "id": "cd3712e2-5d14-4392-9e2f-6b527cbf3d82",
   "metadata": {},
   "source": [
    "MOUNTAIN VIEW (Waterton)\n",
    "\n",
    "for year in `seq 1912 2006`;do for month in `seq 1 1`;do wget --content-disposition \"https://climate.weather.gc.ca/climate_data/bulk_data_e.html?format=csv&stationID=2279&Year=${year}&Month=${month}&Day=14&timeframe=2&submit= Download+Data\" ;done;done\n",
    "\n",
    "\n",
    "MOUNTAINVIEW BIRDSEYE (Waterton)\n",
    "\n",
    "for year in `seq 1916 1981`;do for month in `seq 1 1`;do wget --content-disposition \"https://climate.weather.gc.ca/climate_data/bulk_data_e.html?format=csv&stationID=2419&Year=${year}&Month=${month}&Day=14&timeframe=2&submit= Download+Data\" ;done;done\n",
    "\n",
    "\n",
    "CALDWELL (Waterton)\n",
    "\n",
    "for year in `seq 1910 1990`;do for month in `seq 1 1`;do wget --content-disposition \"https://climate.weather.gc.ca/climate_data/bulk_data_e.html?format=csv&stationID=2201&Year=${year}&Month=${month}&Day=14&timeframe=2&submit= Download+Data\" ;done;done\n",
    "\n",
    "\n",
    "WATERTON RIVER CABIN (Waterton)\n",
    "\n",
    "for year in `seq 1949 1995`;do for month in `seq 1 1`;do wget --content-disposition \"https://climate.weather.gc.ca/climate_data/bulk_data_e.html?format=csv&stationID=2450&Year=${year}&Month=${month}&Day=14&timeframe=2&submit= Download+Data\" ;done;done\n",
    "\n",
    "\n",
    "WATERTON PARK GATE (Waterton)\n",
    "\n",
    "for year in `seq 1994 2023`;do for month in `seq 1 1`;do wget --content-disposition \"https://climate.weather.gc.ca/climate_data/bulk_data_e.html?format=csv&stationID=26850&Year=${year}&Month=${month}&Day=14&timeframe=2&submit= Download+Data\" ;done;done\n",
    "\n",
    "\n",
    "NOTE: Waterton stations are missing temp data from pre-1950 ish"
   ]
  },
  {
   "cell_type": "markdown",
   "id": "24d54e3b-a121-47a1-8bc4-77dbb356614b",
   "metadata": {},
   "source": [
    "## Slocan River near Castlegar"
   ]
  },
  {
   "cell_type": "raw",
   "id": "a909722a-846f-4f59-848e-9412d23cfe64",
   "metadata": {},
   "source": [
    "CASTLEGAR\n",
    "\n",
    "for year in `seq 1916 1963`;do for month in `seq 1 1`;do wget --content-disposition \"https://climate.weather.gc.ca/climate_data/bulk_data_e.html?format=csv&stationID=1104&Year=${year}&Month=${month}&Day=14&timeframe=2&submit= Download+Data\" ;done;done\n",
    "\n",
    "\n",
    "CASTLEGAR A\n",
    "\n",
    "for year in `seq 1964 2023`;do for month in `seq 1 1`;do wget --content-disposition \"https://climate.weather.gc.ca/climate_data/bulk_data_e.html?format=csv&stationID=1105&Year=${year}&Month=${month}&Day=14&timeframe=2&submit= Download+Data\" ;done;done"
   ]
  },
  {
   "cell_type": "raw",
   "id": "cb1f40ae-4d2c-4df0-be2a-685329dd5f5d",
   "metadata": {},
   "source": []
  }
 ],
 "metadata": {
  "kernelspec": {
   "display_name": "Python 3 (ipykernel)",
   "language": "python",
   "name": "python3"
  },
  "language_info": {
   "codemirror_mode": {
    "name": "ipython",
    "version": 3
   },
   "file_extension": ".py",
   "mimetype": "text/x-python",
   "name": "python",
   "nbconvert_exporter": "python",
   "pygments_lexer": "ipython3",
   "version": "3.10.6"
  }
 },
 "nbformat": 4,
 "nbformat_minor": 5
}
